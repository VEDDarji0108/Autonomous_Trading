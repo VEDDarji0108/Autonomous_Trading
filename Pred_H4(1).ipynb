{
 "cells": [
  {
   "cell_type": "markdown",
   "metadata": {},
   "source": [
    "# Forex predictions using Machine Learning\n",
    "# Loading and preparing data"
   ]
  },
  {
   "cell_type": "code",
   "execution_count": 1,
   "metadata": {
    "scrolled": true
   },
   "outputs": [
    {
     "data": {
      "text/html": [
       "<div>\n",
       "<style scoped>\n",
       "    .dataframe tbody tr th:only-of-type {\n",
       "        vertical-align: middle;\n",
       "    }\n",
       "\n",
       "    .dataframe tbody tr th {\n",
       "        vertical-align: top;\n",
       "    }\n",
       "\n",
       "    .dataframe thead th {\n",
       "        text-align: right;\n",
       "    }\n",
       "</style>\n",
       "<table border=\"1\" class=\"dataframe\">\n",
       "  <thead>\n",
       "    <tr style=\"text-align: right;\">\n",
       "      <th></th>\n",
       "      <th>Local time</th>\n",
       "      <th>open</th>\n",
       "      <th>high</th>\n",
       "      <th>low</th>\n",
       "      <th>close</th>\n",
       "      <th>volume</th>\n",
       "    </tr>\n",
       "  </thead>\n",
       "  <tbody>\n",
       "    <tr>\n",
       "      <th>4323</th>\n",
       "      <td>14.10.2019 00:00:00.000 GMT+0300</td>\n",
       "      <td>108.372</td>\n",
       "      <td>108.525</td>\n",
       "      <td>108.033</td>\n",
       "      <td>108.404</td>\n",
       "      <td>122267.0400</td>\n",
       "    </tr>\n",
       "    <tr>\n",
       "      <th>4324</th>\n",
       "      <td>15.10.2019 00:00:00.000 GMT+0300</td>\n",
       "      <td>108.408</td>\n",
       "      <td>108.901</td>\n",
       "      <td>108.157</td>\n",
       "      <td>108.868</td>\n",
       "      <td>161800.8200</td>\n",
       "    </tr>\n",
       "    <tr>\n",
       "      <th>4325</th>\n",
       "      <td>16.10.2019 00:00:00.000 GMT+0300</td>\n",
       "      <td>108.878</td>\n",
       "      <td>108.878</td>\n",
       "      <td>108.565</td>\n",
       "      <td>108.792</td>\n",
       "      <td>178244.1800</td>\n",
       "    </tr>\n",
       "    <tr>\n",
       "      <th>4326</th>\n",
       "      <td>17.10.2019 00:00:00.000 GMT+0300</td>\n",
       "      <td>108.793</td>\n",
       "      <td>108.941</td>\n",
       "      <td>108.454</td>\n",
       "      <td>108.692</td>\n",
       "      <td>234278.7681</td>\n",
       "    </tr>\n",
       "    <tr>\n",
       "      <th>4327</th>\n",
       "      <td>18.10.2019 00:00:00.000 GMT+0300</td>\n",
       "      <td>108.706</td>\n",
       "      <td>108.724</td>\n",
       "      <td>108.388</td>\n",
       "      <td>108.433</td>\n",
       "      <td>148743.3600</td>\n",
       "    </tr>\n",
       "  </tbody>\n",
       "</table>\n",
       "</div>"
      ],
      "text/plain": [
       "                            Local time     open     high      low    close  \\\n",
       "4323  14.10.2019 00:00:00.000 GMT+0300  108.372  108.525  108.033  108.404   \n",
       "4324  15.10.2019 00:00:00.000 GMT+0300  108.408  108.901  108.157  108.868   \n",
       "4325  16.10.2019 00:00:00.000 GMT+0300  108.878  108.878  108.565  108.792   \n",
       "4326  17.10.2019 00:00:00.000 GMT+0300  108.793  108.941  108.454  108.692   \n",
       "4327  18.10.2019 00:00:00.000 GMT+0300  108.706  108.724  108.388  108.433   \n",
       "\n",
       "           volume  \n",
       "4323  122267.0400  \n",
       "4324  161800.8200  \n",
       "4325  178244.1800  \n",
       "4326  234278.7681  \n",
       "4327  148743.3600  "
      ]
     },
     "execution_count": 1,
     "metadata": {},
     "output_type": "execute_result"
    }
   ],
   "source": [
    "import pandas as pd\n",
    "df = pd.read_csv(\"/Users/veddarji0108/Downloads/CODING/USDJPY_Candlestick_1_D_ASK_05.05.2003-19.10.2019.csv\")\n",
    "df.tail()"
   ]
  },
  {
   "cell_type": "code",
   "execution_count": 2,
   "metadata": {},
   "outputs": [
    {
     "data": {
      "text/plain": [
       "Local time    0\n",
       "open          0\n",
       "high          0\n",
       "low           0\n",
       "close         0\n",
       "volume        0\n",
       "dtype: int64"
      ]
     },
     "execution_count": 2,
     "metadata": {},
     "output_type": "execute_result"
    }
   ],
   "source": [
    "#Check if any zero volumes are available\n",
    "indexZeros = df[ df['volume'] == 0 ].index\n",
    "\n",
    "df.drop(indexZeros , inplace=True)\n",
    "df.loc[(df[\"volume\"] == 0 )]\n",
    "df.isna().sum()"
   ]
  },
  {
   "cell_type": "code",
   "execution_count": 5,
   "metadata": {},
   "outputs": [
    {
     "name": "stdout",
     "output_type": "stream",
     "text": [
      "Collecting pandas_ta\n",
      "  Using cached pandas_ta-0.3.14b.tar.gz (115 kB)\n",
      "  Preparing metadata (setup.py) ... \u001b[?25ldone\n",
      "\u001b[?25hRequirement already satisfied: pandas in /opt/anaconda3/lib/python3.11/site-packages (from pandas_ta) (2.1.4)\n",
      "Requirement already satisfied: numpy<2,>=1.23.2 in /opt/anaconda3/lib/python3.11/site-packages (from pandas->pandas_ta) (1.26.4)\n",
      "Requirement already satisfied: python-dateutil>=2.8.2 in /opt/anaconda3/lib/python3.11/site-packages (from pandas->pandas_ta) (2.8.2)\n",
      "Requirement already satisfied: pytz>=2020.1 in /opt/anaconda3/lib/python3.11/site-packages (from pandas->pandas_ta) (2023.3.post1)\n",
      "Requirement already satisfied: tzdata>=2022.1 in /opt/anaconda3/lib/python3.11/site-packages (from pandas->pandas_ta) (2023.3)\n",
      "Requirement already satisfied: six>=1.5 in /opt/anaconda3/lib/python3.11/site-packages (from python-dateutil>=2.8.2->pandas->pandas_ta) (1.16.0)\n",
      "Building wheels for collected packages: pandas_ta\n",
      "  Building wheel for pandas_ta (setup.py) ... \u001b[?25ldone\n",
      "\u001b[?25h  Created wheel for pandas_ta: filename=pandas_ta-0.3.14b0-py3-none-any.whl size=218908 sha256=bf855b4279f3d67aa7e315dafc85cec81d1fd96787117683091cf4d33d36912b\n",
      "  Stored in directory: /Users/veddarji0108/Library/Caches/pip/wheels/7f/33/8b/50b245c5c65433cd8f5cb24ac15d97e5a3db2d41a8b6ae957d\n",
      "Successfully built pandas_ta\n",
      "Installing collected packages: pandas_ta\n",
      "Successfully installed pandas_ta-0.3.14b0\n",
      "Note: you may need to restart the kernel to use updated packages.\n"
     ]
    }
   ],
   "source": [
    "pip install pandas_ta"
   ]
  },
  {
   "cell_type": "code",
   "execution_count": 6,
   "metadata": {
    "scrolled": false
   },
   "outputs": [],
   "source": [
    "import numpy as np\n",
    "import pandas_ta as ta\n",
    "#df.ta.indicators()\n",
    "#help(ta.atr)\n",
    "df['ATR'] = df.ta.atr(length=20)\n",
    "df['RSI'] = df.ta.rsi()\n",
    "df['Average'] = df.ta.midprice(length=1) #midprice\n",
    "df['MA40'] = df.ta.sma(length=40)\n",
    "df['MA80'] = df.ta.sma(length=80)\n",
    "df['MA160'] = df.ta.sma(length=160)\n",
    "\n",
    "from scipy.stats import linregress\n",
    "def get_slope(array):\n",
    "    y = np.array(array)\n",
    "    x = np.arange(len(y))\n",
    "    slope, intercept, r_value, p_value, std_err = linregress(x,y)\n",
    "    return slope\n",
    "\n",
    "#!!!!!!!!!!!!!!!!!!!!!!!!!!!!!\n",
    "backrollingN = 6\n",
    "#!!!!!!!!!!!!!!!!!!!!!!!!!!!!!\n",
    "df['slopeMA40'] = df['MA40'].rolling(window=backrollingN).apply(get_slope, raw=True)\n",
    "df['slopeMA80'] = df['MA80'].rolling(window=backrollingN).apply(get_slope, raw=True)\n",
    "df['slopeMA160'] = df['MA160'].rolling(window=backrollingN).apply(get_slope, raw=True)\n",
    "df['AverageSlope'] = df['Average'].rolling(window=backrollingN).apply(get_slope, raw=True)\n",
    "df['RSISlope'] = df['RSI'].rolling(window=backrollingN).apply(get_slope, raw=True)"
   ]
  },
  {
   "cell_type": "code",
   "execution_count": 7,
   "metadata": {
    "scrolled": true
   },
   "outputs": [
    {
     "data": {
      "text/html": [
       "<div>\n",
       "<style scoped>\n",
       "    .dataframe tbody tr th:only-of-type {\n",
       "        vertical-align: middle;\n",
       "    }\n",
       "\n",
       "    .dataframe tbody tr th {\n",
       "        vertical-align: top;\n",
       "    }\n",
       "\n",
       "    .dataframe thead th {\n",
       "        text-align: right;\n",
       "    }\n",
       "</style>\n",
       "<table border=\"1\" class=\"dataframe\">\n",
       "  <thead>\n",
       "    <tr style=\"text-align: right;\">\n",
       "      <th></th>\n",
       "      <th>Local time</th>\n",
       "      <th>open</th>\n",
       "      <th>high</th>\n",
       "      <th>low</th>\n",
       "      <th>close</th>\n",
       "      <th>volume</th>\n",
       "      <th>ATR</th>\n",
       "      <th>RSI</th>\n",
       "      <th>Average</th>\n",
       "      <th>MA40</th>\n",
       "      <th>MA80</th>\n",
       "      <th>MA160</th>\n",
       "      <th>slopeMA40</th>\n",
       "      <th>slopeMA80</th>\n",
       "      <th>slopeMA160</th>\n",
       "      <th>AverageSlope</th>\n",
       "      <th>RSISlope</th>\n",
       "    </tr>\n",
       "  </thead>\n",
       "  <tbody>\n",
       "    <tr>\n",
       "      <th>4323</th>\n",
       "      <td>14.10.2019 00:00:00.000 GMT+0300</td>\n",
       "      <td>108.372</td>\n",
       "      <td>108.525</td>\n",
       "      <td>108.033</td>\n",
       "      <td>108.404</td>\n",
       "      <td>122267.0400</td>\n",
       "      <td>0.677267</td>\n",
       "      <td>61.010164</td>\n",
       "      <td>108.2790</td>\n",
       "      <td>107.236900</td>\n",
       "      <td>107.399175</td>\n",
       "      <td>108.878912</td>\n",
       "      <td>0.040158</td>\n",
       "      <td>0.003133</td>\n",
       "      <td>-0.021597</td>\n",
       "      <td>0.276314</td>\n",
       "      <td>3.246695</td>\n",
       "    </tr>\n",
       "    <tr>\n",
       "      <th>4324</th>\n",
       "      <td>15.10.2019 00:00:00.000 GMT+0300</td>\n",
       "      <td>108.408</td>\n",
       "      <td>108.901</td>\n",
       "      <td>108.157</td>\n",
       "      <td>108.868</td>\n",
       "      <td>161800.8200</td>\n",
       "      <td>0.680604</td>\n",
       "      <td>65.223022</td>\n",
       "      <td>108.5290</td>\n",
       "      <td>107.302650</td>\n",
       "      <td>107.419962</td>\n",
       "      <td>108.859969</td>\n",
       "      <td>0.048853</td>\n",
       "      <td>0.010529</td>\n",
       "      <td>-0.021116</td>\n",
       "      <td>0.305829</td>\n",
       "      <td>3.651563</td>\n",
       "    </tr>\n",
       "    <tr>\n",
       "      <th>4325</th>\n",
       "      <td>16.10.2019 00:00:00.000 GMT+0300</td>\n",
       "      <td>108.878</td>\n",
       "      <td>108.878</td>\n",
       "      <td>108.565</td>\n",
       "      <td>108.792</td>\n",
       "      <td>178244.1800</td>\n",
       "      <td>0.662224</td>\n",
       "      <td>64.003170</td>\n",
       "      <td>108.7215</td>\n",
       "      <td>107.356525</td>\n",
       "      <td>107.432337</td>\n",
       "      <td>108.841300</td>\n",
       "      <td>0.052381</td>\n",
       "      <td>0.014445</td>\n",
       "      <td>-0.020423</td>\n",
       "      <td>0.292314</td>\n",
       "      <td>2.470620</td>\n",
       "    </tr>\n",
       "    <tr>\n",
       "      <th>4326</th>\n",
       "      <td>17.10.2019 00:00:00.000 GMT+0300</td>\n",
       "      <td>108.793</td>\n",
       "      <td>108.941</td>\n",
       "      <td>108.454</td>\n",
       "      <td>108.692</td>\n",
       "      <td>234278.7681</td>\n",
       "      <td>0.653462</td>\n",
       "      <td>62.350755</td>\n",
       "      <td>108.6975</td>\n",
       "      <td>107.412275</td>\n",
       "      <td>107.443287</td>\n",
       "      <td>108.823081</td>\n",
       "      <td>0.054542</td>\n",
       "      <td>0.014847</td>\n",
       "      <td>-0.019662</td>\n",
       "      <td>0.215143</td>\n",
       "      <td>1.069447</td>\n",
       "    </tr>\n",
       "    <tr>\n",
       "      <th>4327</th>\n",
       "      <td>18.10.2019 00:00:00.000 GMT+0300</td>\n",
       "      <td>108.706</td>\n",
       "      <td>108.724</td>\n",
       "      <td>108.388</td>\n",
       "      <td>108.433</td>\n",
       "      <td>148743.3600</td>\n",
       "      <td>0.637589</td>\n",
       "      <td>58.162392</td>\n",
       "      <td>108.5560</td>\n",
       "      <td>107.486275</td>\n",
       "      <td>107.449425</td>\n",
       "      <td>108.805869</td>\n",
       "      <td>0.058493</td>\n",
       "      <td>0.013281</td>\n",
       "      <td>-0.018739</td>\n",
       "      <td>0.086300</td>\n",
       "      <td>-0.379915</td>\n",
       "    </tr>\n",
       "  </tbody>\n",
       "</table>\n",
       "</div>"
      ],
      "text/plain": [
       "                            Local time     open     high      low    close  \\\n",
       "4323  14.10.2019 00:00:00.000 GMT+0300  108.372  108.525  108.033  108.404   \n",
       "4324  15.10.2019 00:00:00.000 GMT+0300  108.408  108.901  108.157  108.868   \n",
       "4325  16.10.2019 00:00:00.000 GMT+0300  108.878  108.878  108.565  108.792   \n",
       "4326  17.10.2019 00:00:00.000 GMT+0300  108.793  108.941  108.454  108.692   \n",
       "4327  18.10.2019 00:00:00.000 GMT+0300  108.706  108.724  108.388  108.433   \n",
       "\n",
       "           volume       ATR        RSI   Average        MA40        MA80  \\\n",
       "4323  122267.0400  0.677267  61.010164  108.2790  107.236900  107.399175   \n",
       "4324  161800.8200  0.680604  65.223022  108.5290  107.302650  107.419962   \n",
       "4325  178244.1800  0.662224  64.003170  108.7215  107.356525  107.432337   \n",
       "4326  234278.7681  0.653462  62.350755  108.6975  107.412275  107.443287   \n",
       "4327  148743.3600  0.637589  58.162392  108.5560  107.486275  107.449425   \n",
       "\n",
       "           MA160  slopeMA40  slopeMA80  slopeMA160  AverageSlope  RSISlope  \n",
       "4323  108.878912   0.040158   0.003133   -0.021597      0.276314  3.246695  \n",
       "4324  108.859969   0.048853   0.010529   -0.021116      0.305829  3.651563  \n",
       "4325  108.841300   0.052381   0.014445   -0.020423      0.292314  2.470620  \n",
       "4326  108.823081   0.054542   0.014847   -0.019662      0.215143  1.069447  \n",
       "4327  108.805869   0.058493   0.013281   -0.018739      0.086300 -0.379915  "
      ]
     },
     "execution_count": 7,
     "metadata": {},
     "output_type": "execute_result"
    }
   ],
   "source": [
    "df.tail()"
   ]
  },
  {
   "cell_type": "markdown",
   "metadata": {},
   "source": [
    "# Target categories"
   ]
  },
  {
   "cell_type": "code",
   "execution_count": 8,
   "metadata": {},
   "outputs": [],
   "source": [
    "#Target flexible way\n",
    "pipdiff = 500*1e-5 #for TP\n",
    "SLTPRatio = 2 #pipdiff/Ratio gives SL\n",
    "\n",
    "def mytarget(barsupfront, df1):\n",
    "    length = len(df1)\n",
    "    high = list(df1['high'])\n",
    "    low = list(df1['low'])\n",
    "    close = list(df1['close'])\n",
    "    open = list(df1['open'])\n",
    "    trendcat = [None] * length\n",
    "    \n",
    "    for line in range (0,length-barsupfront-2):\n",
    "        valueOpenLow = 0\n",
    "        valueOpenHigh = 0\n",
    "        for i in range(1,barsupfront+2):\n",
    "            value1 = open[line+1]-low[line+i]\n",
    "            value2 = open[line+1]-high[line+i]\n",
    "            valueOpenLow = max(value1, valueOpenLow)\n",
    "            valueOpenHigh = min(value2, valueOpenHigh)\n",
    "\n",
    "            if ( (valueOpenLow >= pipdiff) and (-valueOpenHigh <= (pipdiff/SLTPRatio)) ):\n",
    "                trendcat[line] = 1 #-1 downtrend\n",
    "                break\n",
    "            elif ( (valueOpenLow <= (pipdiff/SLTPRatio)) and (-valueOpenHigh >= pipdiff) ):\n",
    "                trendcat[line] = 2 # uptrend\n",
    "                break\n",
    "            else:\n",
    "                trendcat[line] = 0 # no clear trend\n",
    "            \n",
    "    return trendcat"
   ]
  },
  {
   "cell_type": "code",
   "execution_count": 9,
   "metadata": {
    "scrolled": true
   },
   "outputs": [
    {
     "data": {
      "text/html": [
       "<div>\n",
       "<style scoped>\n",
       "    .dataframe tbody tr th:only-of-type {\n",
       "        vertical-align: middle;\n",
       "    }\n",
       "\n",
       "    .dataframe tbody tr th {\n",
       "        vertical-align: top;\n",
       "    }\n",
       "\n",
       "    .dataframe thead th {\n",
       "        text-align: right;\n",
       "    }\n",
       "</style>\n",
       "<table border=\"1\" class=\"dataframe\">\n",
       "  <thead>\n",
       "    <tr style=\"text-align: right;\">\n",
       "      <th></th>\n",
       "      <th>Local time</th>\n",
       "      <th>open</th>\n",
       "      <th>high</th>\n",
       "      <th>low</th>\n",
       "      <th>close</th>\n",
       "      <th>volume</th>\n",
       "      <th>ATR</th>\n",
       "      <th>RSI</th>\n",
       "      <th>Average</th>\n",
       "      <th>MA40</th>\n",
       "      <th>MA80</th>\n",
       "      <th>MA160</th>\n",
       "      <th>slopeMA40</th>\n",
       "      <th>slopeMA80</th>\n",
       "      <th>slopeMA160</th>\n",
       "      <th>AverageSlope</th>\n",
       "      <th>RSISlope</th>\n",
       "      <th>mytarget</th>\n",
       "    </tr>\n",
       "  </thead>\n",
       "  <tbody>\n",
       "    <tr>\n",
       "      <th>0</th>\n",
       "      <td>05.05.2003 00:00:00.000 GMT+0300</td>\n",
       "      <td>118.990</td>\n",
       "      <td>119.070</td>\n",
       "      <td>118.471</td>\n",
       "      <td>118.653</td>\n",
       "      <td>563551.1134</td>\n",
       "      <td>NaN</td>\n",
       "      <td>NaN</td>\n",
       "      <td>118.7705</td>\n",
       "      <td>NaN</td>\n",
       "      <td>NaN</td>\n",
       "      <td>NaN</td>\n",
       "      <td>NaN</td>\n",
       "      <td>NaN</td>\n",
       "      <td>NaN</td>\n",
       "      <td>NaN</td>\n",
       "      <td>NaN</td>\n",
       "      <td>0.0</td>\n",
       "    </tr>\n",
       "    <tr>\n",
       "      <th>1</th>\n",
       "      <td>06.05.2003 00:00:00.000 GMT+0300</td>\n",
       "      <td>118.641</td>\n",
       "      <td>118.771</td>\n",
       "      <td>117.300</td>\n",
       "      <td>117.550</td>\n",
       "      <td>567318.3077</td>\n",
       "      <td>NaN</td>\n",
       "      <td>NaN</td>\n",
       "      <td>118.0355</td>\n",
       "      <td>NaN</td>\n",
       "      <td>NaN</td>\n",
       "      <td>NaN</td>\n",
       "      <td>NaN</td>\n",
       "      <td>NaN</td>\n",
       "      <td>NaN</td>\n",
       "      <td>NaN</td>\n",
       "      <td>NaN</td>\n",
       "      <td>0.0</td>\n",
       "    </tr>\n",
       "    <tr>\n",
       "      <th>2</th>\n",
       "      <td>07.05.2003 00:00:00.000 GMT+0300</td>\n",
       "      <td>117.506</td>\n",
       "      <td>117.848</td>\n",
       "      <td>116.062</td>\n",
       "      <td>116.353</td>\n",
       "      <td>562770.3985</td>\n",
       "      <td>NaN</td>\n",
       "      <td>NaN</td>\n",
       "      <td>116.9550</td>\n",
       "      <td>NaN</td>\n",
       "      <td>NaN</td>\n",
       "      <td>NaN</td>\n",
       "      <td>NaN</td>\n",
       "      <td>NaN</td>\n",
       "      <td>NaN</td>\n",
       "      <td>NaN</td>\n",
       "      <td>NaN</td>\n",
       "      <td>0.0</td>\n",
       "    </tr>\n",
       "    <tr>\n",
       "      <th>3</th>\n",
       "      <td>08.05.2003 00:00:00.000 GMT+0300</td>\n",
       "      <td>116.361</td>\n",
       "      <td>116.979</td>\n",
       "      <td>115.950</td>\n",
       "      <td>116.873</td>\n",
       "      <td>565066.5899</td>\n",
       "      <td>NaN</td>\n",
       "      <td>NaN</td>\n",
       "      <td>116.4645</td>\n",
       "      <td>NaN</td>\n",
       "      <td>NaN</td>\n",
       "      <td>NaN</td>\n",
       "      <td>NaN</td>\n",
       "      <td>NaN</td>\n",
       "      <td>NaN</td>\n",
       "      <td>NaN</td>\n",
       "      <td>NaN</td>\n",
       "      <td>0.0</td>\n",
       "    </tr>\n",
       "    <tr>\n",
       "      <th>4</th>\n",
       "      <td>09.05.2003 00:00:00.000 GMT+0300</td>\n",
       "      <td>116.855</td>\n",
       "      <td>117.626</td>\n",
       "      <td>116.810</td>\n",
       "      <td>117.201</td>\n",
       "      <td>565239.7001</td>\n",
       "      <td>NaN</td>\n",
       "      <td>NaN</td>\n",
       "      <td>117.2180</td>\n",
       "      <td>NaN</td>\n",
       "      <td>NaN</td>\n",
       "      <td>NaN</td>\n",
       "      <td>NaN</td>\n",
       "      <td>NaN</td>\n",
       "      <td>NaN</td>\n",
       "      <td>NaN</td>\n",
       "      <td>NaN</td>\n",
       "      <td>1.0</td>\n",
       "    </tr>\n",
       "  </tbody>\n",
       "</table>\n",
       "</div>"
      ],
      "text/plain": [
       "                         Local time     open     high      low    close  \\\n",
       "0  05.05.2003 00:00:00.000 GMT+0300  118.990  119.070  118.471  118.653   \n",
       "1  06.05.2003 00:00:00.000 GMT+0300  118.641  118.771  117.300  117.550   \n",
       "2  07.05.2003 00:00:00.000 GMT+0300  117.506  117.848  116.062  116.353   \n",
       "3  08.05.2003 00:00:00.000 GMT+0300  116.361  116.979  115.950  116.873   \n",
       "4  09.05.2003 00:00:00.000 GMT+0300  116.855  117.626  116.810  117.201   \n",
       "\n",
       "        volume  ATR  RSI   Average  MA40  MA80  MA160  slopeMA40  slopeMA80  \\\n",
       "0  563551.1134  NaN  NaN  118.7705   NaN   NaN    NaN        NaN        NaN   \n",
       "1  567318.3077  NaN  NaN  118.0355   NaN   NaN    NaN        NaN        NaN   \n",
       "2  562770.3985  NaN  NaN  116.9550   NaN   NaN    NaN        NaN        NaN   \n",
       "3  565066.5899  NaN  NaN  116.4645   NaN   NaN    NaN        NaN        NaN   \n",
       "4  565239.7001  NaN  NaN  117.2180   NaN   NaN    NaN        NaN        NaN   \n",
       "\n",
       "   slopeMA160  AverageSlope  RSISlope  mytarget  \n",
       "0         NaN           NaN       NaN       0.0  \n",
       "1         NaN           NaN       NaN       0.0  \n",
       "2         NaN           NaN       NaN       0.0  \n",
       "3         NaN           NaN       NaN       0.0  \n",
       "4         NaN           NaN       NaN       1.0  "
      ]
     },
     "execution_count": 9,
     "metadata": {},
     "output_type": "execute_result"
    }
   ],
   "source": [
    "# mytarget(barsfront to take into account, dataframe)\n",
    "df['mytarget'] = mytarget(16, df)\n",
    "df.head()"
   ]
  },
  {
   "cell_type": "markdown",
   "metadata": {},
   "source": [
    "# Quick analysis example"
   ]
  },
  {
   "cell_type": "code",
   "execution_count": 10,
   "metadata": {},
   "outputs": [
    {
     "name": "stderr",
     "output_type": "stream",
     "text": [
      "/var/folders/44/5fjpmy5x6kg9yc3gslmc0bww0000gn/T/ipykernel_22740/2271519335.py:5: UserWarning: To output multiple subplots, the figure containing the passed axes is being cleared.\n",
      "  df_model.hist(ax = ax)\n"
     ]
    },
    {
     "data": {
      "image/png": "[encoded data removed]",
      "text/plain": [
       "<Figure size 1500x2000 with 16 Axes>"
      ]
     },
     "metadata": {},
     "output_type": "display_data"
    }
   ],
   "source": [
    "import matplotlib.pyplot as plt\n",
    "fig = plt.figure(figsize = (15,20))\n",
    "ax = fig.gca()\n",
    "df_model= df[['volume', 'ATR', 'RSI', 'Average', 'MA40', 'MA80', 'MA160', 'slopeMA40', 'slopeMA80', 'slopeMA160', 'AverageSlope', 'RSISlope', 'mytarget']] \n",
    "df_model.hist(ax = ax)\n",
    "plt.show()"
   ]
  },
  {
   "cell_type": "markdown",
   "metadata": {},
   "source": [
    "## Can we use the RSI alone as a trend indicator?"
   ]
  },
  {
   "cell_type": "code",
   "execution_count": 11,
   "metadata": {},
   "outputs": [
    {
     "data": {
      "image/png": "[encoded data removed]",
      "text/plain": [
       "<Figure size 640x480 with 1 Axes>"
      ]
     },
     "metadata": {},
     "output_type": "display_data"
    }
   ],
   "source": [
    "from matplotlib import pyplot\n",
    "df_up=df.RSI[ df['mytarget'] == 2 ]\n",
    "df_down=df.RSI[ df['mytarget'] == 1 ]\n",
    "df_unclear=df.RSI[ df['mytarget'] == 0 ]\n",
    "pyplot.hist(df_unclear, bins=100, alpha=0.5, label='unclear')\n",
    "pyplot.hist(df_down, bins=100, alpha=0.5, label='down')\n",
    "pyplot.hist(df_up, bins=100, alpha=0.5, label='up')\n",
    "\n",
    "pyplot.legend(loc='upper right')\n",
    "pyplot.show()"
   ]
  },
  {
   "cell_type": "markdown",
   "metadata": {},
   "source": [
    "# Machine learning for trend prediction"
   ]
  },
  {
   "cell_type": "markdown",
   "metadata": {},
   "source": [
    "## 1 - the perfect model with precise prediction"
   ]
  },
  {
   "cell_type": "markdown",
   "metadata": {},
   "source": [
    "## 2 - less perfect model still with > 40% precision"
   ]
  },
  {
   "cell_type": "markdown",
   "metadata": {},
   "source": [
    "## 3 - much less perfect model with precision >35% taking into account our strategy, and our TP/SL ratio "
   ]
  },
  {
   "cell_type": "markdown",
   "metadata": {},
   "source": [
    "### can't let an automated program run your trades\n",
    "### it can be your version of a smart indicator (based on machine learning)\n",
    "\n",
    "## 4 - Our target has categorical values so we need a classificator, KNN?"
   ]
  },
  {
   "cell_type": "markdown",
   "metadata": {},
   "source": [
    "## Splitting features and target"
   ]
  },
  {
   "cell_type": "code",
   "execution_count": 12,
   "metadata": {},
   "outputs": [
    {
     "name": "stdout",
     "output_type": "stream",
     "text": [
      "           ATR        RSI   Average        MA40        MA80       MA160  \\\n",
      "165   0.866351  44.506557  107.7545  108.644625  110.622938  114.448812   \n",
      "166   0.856181  42.120858  107.6075  108.620350  110.510388  114.389194   \n",
      "167   0.831467  41.066281  107.4120  108.598625  110.395788  114.331719   \n",
      "168   0.812740  39.499557  107.3295  108.571600  110.287700  114.275637   \n",
      "169   0.788549  39.390453  107.2265  108.533525  110.168812  114.217262   \n",
      "...        ...        ...       ...         ...         ...         ...   \n",
      "4305  0.649515  65.885506  108.2840  106.927625  107.540050  109.230675   \n",
      "4306  0.651290  59.590946  108.1325  106.912925  107.520325  109.219606   \n",
      "4307  0.646625  53.236671  107.8110  106.885100  107.511500  109.205963   \n",
      "4308  0.637294  52.914147  107.5410  106.854200  107.504913  109.188238   \n",
      "4309  0.647279  47.253783  107.3805  106.815950  107.491712  109.166962   \n",
      "\n",
      "      slopeMA40  slopeMA80  slopeMA160  AverageSlope  RSISlope  \n",
      "165   -0.047606  -0.121743   -0.060220     -0.030471  0.276514  \n",
      "166   -0.040276  -0.119490   -0.058551     -0.018971  0.521691  \n",
      "167   -0.034711  -0.116953   -0.058122     -0.015900  0.300581  \n",
      "168   -0.030400  -0.113897   -0.058145     -0.053200 -0.267727  \n",
      "169   -0.028137  -0.113159   -0.057951     -0.108871 -0.917448  \n",
      "...         ...        ...         ...           ...       ...  \n",
      "4305   0.007328  -0.016031   -0.009474      0.108114  0.696275  \n",
      "4306   0.001685  -0.016139   -0.010455      0.067329 -0.298334  \n",
      "4307  -0.005287  -0.015485   -0.011128     -0.009943 -1.664904  \n",
      "4308  -0.013429  -0.013514   -0.012313     -0.077686 -2.494492  \n",
      "4309  -0.022089  -0.012198   -0.014490     -0.189729 -3.541191  \n",
      "\n",
      "[4115 rows x 11 columns]\n"
     ]
    }
   ],
   "source": [
    "df_model=df_model.dropna()\n",
    "\n",
    "attributes=['ATR', 'RSI', 'Average', 'MA40', 'MA80', 'MA160', 'slopeMA40', 'slopeMA80', 'slopeMA160', 'AverageSlope', 'RSISlope']\n",
    "X = df_model[attributes]\n",
    "y = df_model[\"mytarget\"]\n",
    "\n",
    "print(X)"
   ]
  },
  {
   "cell_type": "code",
   "execution_count": 13,
   "metadata": {},
   "outputs": [],
   "source": [
    "from sklearn.model_selection import train_test_split\n",
    "X_train, X_test, y_train, y_test = train_test_split(X, y, test_size=0.2, random_state=1)"
   ]
  },
  {
   "cell_type": "markdown",
   "metadata": {},
   "source": [
    "## Fitting the KNN model"
   ]
  },
  {
   "cell_type": "code",
   "execution_count": 14,
   "metadata": {},
   "outputs": [],
   "source": [
    "from sklearn.neighbors import KNeighborsClassifier\n",
    "\n",
    "model = KNeighborsClassifier(n_neighbors=200, weights='uniform', algorithm='kd_tree', leaf_size=30, p=1, metric='minkowski', metric_params=None, n_jobs=1)\n",
    "model.fit(X_train, y_train)\n",
    "\n",
    "y_pred_train = model.predict(X_train)\n",
    "y_pred_test = model.predict(X_test)"
   ]
  },
  {
   "cell_type": "markdown",
   "metadata": {},
   "source": [
    "## Quick evaluation of our fitting"
   ]
  },
  {
   "cell_type": "code",
   "execution_count": 15,
   "metadata": {},
   "outputs": [
    {
     "name": "stdout",
     "output_type": "stream",
     "text": [
      "Accuracy train: 98.51%\n",
      "Accuracy test: 98.18%\n",
      "mytarget\n",
      "0.0    98.444714\n",
      "1.0     1.020656\n",
      "2.0     0.534629\n",
      "Name: count, dtype: float64\n",
      "Accuracy Gambler: 32.20%\n"
     ]
    }
   ],
   "source": [
    "from sklearn.metrics import accuracy_score\n",
    "accuracy_train = accuracy_score(y_train, y_pred_train)\n",
    "accuracy_test = accuracy_score(y_test, y_pred_test)\n",
    "print(\"Accuracy train: %.2f%%\" % (accuracy_train * 100.0))\n",
    "print(\"Accuracy test: %.2f%%\" % (accuracy_test * 100.0))\n",
    "\n",
    "#------------------------------------------------------------------\n",
    "#--- How should I compare my accuracy ?\n",
    "print(df_model['mytarget'].value_counts()*100/df_model['mytarget'].count())\n",
    "\n",
    "# Random Model, gambler?\n",
    "pred_test = np.random.choice([0, 1, 2], len(y_pred_test))\n",
    "accuracy_test = accuracy_score(y_test, pred_test)\n",
    "print(\"Accuracy Gambler: %.2f%%\" % (accuracy_test * 100.0))"
   ]
  },
  {
   "cell_type": "code",
   "execution_count": 17,
   "metadata": {},
   "outputs": [
    {
     "name": "stdout",
     "output_type": "stream",
     "text": [
      "Collecting xgboost\n",
      "  Downloading xgboost-2.1.2-py3-none-macosx_12_0_arm64.whl.metadata (2.1 kB)\n",
      "Requirement already satisfied: numpy in /opt/anaconda3/lib/python3.11/site-packages (from xgboost) (1.26.4)\n",
      "Requirement already satisfied: scipy in /opt/anaconda3/lib/python3.11/site-packages (from xgboost) (1.11.4)\n",
      "Downloading xgboost-2.1.2-py3-none-macosx_12_0_arm64.whl (1.9 MB)\n",
      "\u001b[2K   \u001b[90m━━━━━━━━━━━━━━━━━━━━━━━━━━━━━━━━━━━━━━━━\u001b[0m \u001b[32m1.9/1.9 MB\u001b[0m \u001b[31m1.0 MB/s\u001b[0m eta \u001b[36m0:00:00\u001b[0m0:00:01\u001b[0m:01\u001b[0m0m\n",
      "\u001b[?25hInstalling collected packages: xgboost\n",
      "Successfully installed xgboost-2.1.2\n",
      "Note: you may need to restart the kernel to use updated packages.\n"
     ]
    }
   ],
   "source": [
    "pip install xgboost"
   ]
  },
  {
   "cell_type": "markdown",
   "metadata": {},
   "source": [
    "## More powerful model XGBoost"
   ]
  },
  {
   "cell_type": "code",
   "execution_count": 18,
   "metadata": {},
   "outputs": [
    {
     "name": "stdout",
     "output_type": "stream",
     "text": [
      "****Train Results****\n",
      "Accuracy: 100.0000%\n",
      "****Test Results****\n",
      "Accuracy: 97.9344%\n"
     ]
    }
   ],
   "source": [
    "from xgboost import XGBClassifier\n",
    "model = XGBClassifier()\n",
    "model.fit(X_train, y_train)\n",
    "pred_train = model.predict(X_train)\n",
    "pred_test = model.predict(X_test)\n",
    "acc_train = accuracy_score(y_train, pred_train)\n",
    "acc_test = accuracy_score(y_test, pred_test)\n",
    "print('****Train Results****')\n",
    "print(\"Accuracy: {:.4%}\".format(acc_train))\n",
    "print('****Test Results****')\n",
    "print(\"Accuracy: {:.4%}\".format(acc_test))"
   ]
  },
  {
   "cell_type": "markdown",
   "metadata": {},
   "source": [
    "## !!Data sampling shouldn't be random"
   ]
  },
  {
   "cell_type": "code",
   "execution_count": 19,
   "metadata": {},
   "outputs": [
    {
     "name": "stdout",
     "output_type": "stream",
     "text": [
      "****Train Results****\n",
      "Accuracy: 100.0000%\n",
      "****Test Results****\n",
      "Accuracy: 97.8129%\n"
     ]
    }
   ],
   "source": [
    "#random sampling\n",
    "#X_train, X_test, y_train, y_test = train_test_split(X, y, test_size=0.2, random_state=10)\n",
    "\n",
    "#sequential sampling\n",
    "train_index = int(0.8 * len(X))\n",
    "X_train, X_test = X[:train_index], X[train_index:]\n",
    "y_train, y_test = y[:train_index], y[train_index:]\n",
    "\n",
    "model = XGBClassifier()\n",
    "model.fit(X_train, y_train)\n",
    "pred_train = model.predict(X_train)\n",
    "pred_test = model.predict(X_test)\n",
    "acc_train = accuracy_score(y_train, pred_train)\n",
    "acc_test = accuracy_score(y_test, pred_test)\n",
    "print('****Train Results****')\n",
    "print(\"Accuracy: {:.4%}\".format(acc_train))\n",
    "print('****Test Results****')\n",
    "print(\"Accuracy: {:.4%}\".format(acc_test))"
   ]
  },
  {
   "cell_type": "markdown",
   "metadata": {},
   "source": [
    "## Which features are most important for our model?"
   ]
  },
  {
   "cell_type": "code",
   "execution_count": 20,
   "metadata": {},
   "outputs": [
    {
     "data": {
      "image/png": "[encoded data removed]",
      "text/plain": [
       "<Figure size 640x480 with 1 Axes>"
      ]
     },
     "metadata": {},
     "output_type": "display_data"
    }
   ],
   "source": [
    "from matplotlib import pyplot\n",
    "from xgboost import plot_importance\n",
    "#plot feature importance\n",
    "plot_importance(model)\n",
    "pyplot.show()"
   ]
  },
  {
   "cell_type": "markdown",
   "metadata": {},
   "source": [
    "# Automated orders using python and Machine Learning\n",
    "## Previous videos\n",
    "### 1 - Install Anaconda, Jupyter NB, Pandas_TA (Technical Analysis)\n",
    "### 2 - Download price data from online resources, and add our technical indicators to our exchange price dataframe\n",
    "### 3 - Fit a Machine learning model and predict future price trends using KNN and XGBOOST classifiers\n",
    "### 4 - Save and Load a ML model,\n",
    "### - according to the model's advice\n",
    "### - passing orders (sell/buy) automatically\n",
    "### - send an email notification about newly applied trading operations"
   ]
  },
  {
   "cell_type": "markdown",
   "metadata": {},
   "source": [
    "## Load Machine Learning Model from Disk and Test it"
   ]
  },
  {
   "cell_type": "code",
   "execution_count": 21,
   "metadata": {},
   "outputs": [],
   "source": [
    "import joblib\n",
    "\n",
    "# save your ML model to disk\n",
    "filename = 'mymodel1.sav'\n",
    "joblib.dump(model, filename)\n",
    "\n",
    "#load the model from disk\n",
    "loaded_model = joblib.load('mymodel1.sav')"
   ]
  },
  {
   "cell_type": "code",
   "execution_count": 31,
   "metadata": {},
   "outputs": [
    {
     "name": "stdout",
     "output_type": "stream",
     "text": [
      "Collecting oanda_candles\n",
      "  Downloading oanda_candles-0.1.0-py3-none-any.whl.metadata (7.5 kB)\n",
      "Collecting forex-types<0.0.7,>=0.0.6 (from oanda_candles)\n",
      "  Downloading forex_types-0.0.6-py3-none-any.whl.metadata (3.3 kB)\n",
      "Collecting magic-kind<0.3.0,>=0.2.2 (from oanda_candles)\n",
      "  Downloading magic_kind-0.2.2-py3-none-any.whl.metadata (5.0 kB)\n",
      "Collecting oandapyV20<0.7.0,>=0.6.3 (from oanda_candles)\n",
      "  Downloading oandapyV20-0.6.3.tar.gz (52 kB)\n",
      "\u001b[2K     \u001b[90m━━━━━━━━━━━━━━━━━━━━━━━━━━━━━━━━━━━━━━━\u001b[0m \u001b[32m52.7/52.7 kB\u001b[0m \u001b[31m300.7 kB/s\u001b[0m eta \u001b[36m0:00:00\u001b[0ma \u001b[36m0:00:01\u001b[0m\n",
      "\u001b[?25h  Preparing metadata (setup.py) ... \u001b[?25ldone\n",
      "\u001b[?25hRequirement already satisfied: requests<3.0.0,>=2.23.0 in /opt/anaconda3/lib/python3.11/site-packages (from oanda_candles) (2.31.0)\n",
      "Collecting time-int<0.0.10,>=0.0.9 (from oanda_candles)\n",
      "  Downloading time_int-0.0.9-py3-none-any.whl.metadata (4.1 kB)\n",
      "Requirement already satisfied: charset-normalizer<4,>=2 in /opt/anaconda3/lib/python3.11/site-packages (from requests<3.0.0,>=2.23.0->oanda_candles) (2.0.4)\n",
      "Requirement already satisfied: idna<4,>=2.5 in /opt/anaconda3/lib/python3.11/site-packages (from requests<3.0.0,>=2.23.0->oanda_candles) (3.4)\n",
      "Requirement already satisfied: urllib3<3,>=1.21.1 in /opt/anaconda3/lib/python3.11/site-packages (from requests<3.0.0,>=2.23.0->oanda_candles) (2.0.7)\n",
      "Requirement already satisfied: certifi>=2017.4.17 in /opt/anaconda3/lib/python3.11/site-packages (from requests<3.0.0,>=2.23.0->oanda_candles) (2024.2.2)\n",
      "Collecting pytest<6.0.0,>=5.4.2 (from time-int<0.0.10,>=0.0.9->oanda_candles)\n",
      "  Downloading pytest-5.4.3-py3-none-any.whl.metadata (7.3 kB)\n",
      "Collecting py>=1.5.0 (from pytest<6.0.0,>=5.4.2->time-int<0.0.10,>=0.0.9->oanda_candles)\n",
      "  Downloading py-1.11.0-py2.py3-none-any.whl.metadata (2.8 kB)\n",
      "Requirement already satisfied: packaging in /opt/anaconda3/lib/python3.11/site-packages (from pytest<6.0.0,>=5.4.2->time-int<0.0.10,>=0.0.9->oanda_candles) (23.1)\n",
      "Requirement already satisfied: attrs>=17.4.0 in /opt/anaconda3/lib/python3.11/site-packages (from pytest<6.0.0,>=5.4.2->time-int<0.0.10,>=0.0.9->oanda_candles) (23.1.0)\n",
      "Requirement already satisfied: more-itertools>=4.0.0 in /opt/anaconda3/lib/python3.11/site-packages (from pytest<6.0.0,>=5.4.2->time-int<0.0.10,>=0.0.9->oanda_candles) (10.1.0)\n",
      "Collecting pluggy<1.0,>=0.12 (from pytest<6.0.0,>=5.4.2->time-int<0.0.10,>=0.0.9->oanda_candles)\n",
      "  Downloading pluggy-0.13.1-py2.py3-none-any.whl.metadata (15 kB)\n",
      "Requirement already satisfied: wcwidth in /opt/anaconda3/lib/python3.11/site-packages (from pytest<6.0.0,>=5.4.2->time-int<0.0.10,>=0.0.9->oanda_candles) (0.2.5)\n",
      "Downloading oanda_candles-0.1.0-py3-none-any.whl (16 kB)\n",
      "Downloading forex_types-0.0.6-py3-none-any.whl (11 kB)\n",
      "Downloading magic_kind-0.2.2-py3-none-any.whl (8.1 kB)\n",
      "Downloading time_int-0.0.9-py3-none-any.whl (5.5 kB)\n",
      "Downloading pytest-5.4.3-py3-none-any.whl (248 kB)\n",
      "\u001b[2K   \u001b[90m━━━━━━━━━━━━━━━━━━━━━━━━━━━━━━━━━━━━━━━\u001b[0m \u001b[32m248.1/248.1 kB\u001b[0m \u001b[31m687.0 kB/s\u001b[0m eta \u001b[36m0:00:00\u001b[0ma \u001b[36m0:00:01\u001b[0m\n",
      "\u001b[?25hDownloading pluggy-0.13.1-py2.py3-none-any.whl (18 kB)\n",
      "Downloading py-1.11.0-py2.py3-none-any.whl (98 kB)\n",
      "\u001b[2K   \u001b[90m━━━━━━━━━━━━━━━━━━━━━━━━━━━━━━━━━━━━━━━━\u001b[0m \u001b[32m98.7/98.7 kB\u001b[0m \u001b[31m1.2 MB/s\u001b[0m eta \u001b[36m0:00:00\u001b[0ma \u001b[36m0:00:01\u001b[0m\n",
      "\u001b[?25hBuilding wheels for collected packages: oandapyV20\n",
      "  Building wheel for oandapyV20 (setup.py) ... \u001b[?25ldone\n",
      "\u001b[?25h  Created wheel for oandapyV20: filename=oandapyV20-0.6.3-py3-none-any.whl size=69502 sha256=c449b13368edb86f99ab52697b61b0aea6d1740b79fb75fa39d57f775024c57f\n",
      "  Stored in directory: /Users/veddarji0108/Library/Caches/pip/wheels/61/d4/d8/4015cf7ce78243321d426e163feb6d4b6445a464174f3d6921\n",
      "Successfully built oandapyV20\n",
      "Installing collected packages: oandapyV20, py, pluggy, magic-kind, forex-types, pytest, time-int, oanda_candles\n",
      "  Attempting uninstall: oandapyV20\n",
      "    Found existing installation: oandapyV20 0.7.2\n",
      "    Uninstalling oandapyV20-0.7.2:\n",
      "      Successfully uninstalled oandapyV20-0.7.2\n",
      "  Attempting uninstall: pluggy\n",
      "    Found existing installation: pluggy 1.0.0\n",
      "    Uninstalling pluggy-1.0.0:\n",
      "      Successfully uninstalled pluggy-1.0.0\n",
      "  Attempting uninstall: pytest\n",
      "    Found existing installation: pytest 7.4.0\n",
      "    Uninstalling pytest-7.4.0:\n",
      "      Successfully uninstalled pytest-7.4.0\n",
      "\u001b[31mERROR: pip's dependency resolver does not currently take into account all the packages that are installed. This behaviour is the source of the following dependency conflicts.\n",
      "conda 24.1.2 requires pluggy>=1.0.0, but you have pluggy 0.13.1 which is incompatible.\n",
      "python-lsp-server 1.7.2 requires pluggy>=1.0.0, but you have pluggy 0.13.1 which is incompatible.\u001b[0m\u001b[31m\n",
      "\u001b[0mSuccessfully installed forex-types-0.0.6 magic-kind-0.2.2 oanda_candles-0.1.0 oandapyV20-0.6.3 pluggy-0.13.1 py-1.11.0 pytest-5.4.3 time-int-0.0.9\n"
     ]
    }
   ],
   "source": [
    "# pip install apscheduler \n",
    "\n",
    "# !pip install oandapyV20\n",
    "\n",
    "!pip install oanda_candles"
   ]
  },
  {
   "cell_type": "markdown",
   "metadata": {},
   "source": [
    "## Live Automated Orders with email notification"
   ]
  },
  {
   "cell_type": "code",
   "execution_count": 32,
   "metadata": {},
   "outputs": [],
   "source": [
    "from apscheduler.schedulers.blocking import BlockingScheduler\n",
    "import json\n",
    "from oandapyV20 import API\n",
    "import oandapyV20.endpoints.orders as orders\n",
    "from oandapyV20.contrib.requests import MarketOrderRequest\n",
    "from oanda_candles import Pair, Gran, CandleCollector\n",
    "from oandapyV20.contrib.requests import TakeProfitDetails, StopLossDetails\n",
    "\n",
    "\n",
    "import smtplib\n",
    "gmail_user = 'email@gmail.com'\n",
    "gmail_password = 'email password here'\n",
    "sent_from = gmail_user\n",
    "to = ['email@gmail.com']\n",
    "subject = 'info CHF'\n"
   ]
  },
  {
   "cell_type": "code",
   "execution_count": 33,
   "metadata": {},
   "outputs": [],
   "source": [
    "ModelPrediction = 0\n",
    "def some_job():\n",
    "    access_token=\"INSERT TOKEN HERE, YOU GET IT FROM YOUR OANDA ACCOUNT\"\n",
    "    collector = CandleCollector(access_token, Pair.USD_CHF, Gran.H4)\n",
    "    candles = collector.grab(2*161)\n",
    "\n",
    "    dfstream = pd.DataFrame(columns=['Open','Close','High','Low'])\n",
    "    i=0\n",
    "    for candle in candles:\n",
    "        dfstream.loc[i, ['Open']] = float(str(candle.bid.o))\n",
    "        dfstream.loc[i, ['Close']] = float(str(candle.bid.c))\n",
    "        dfstream.loc[i, ['High']] = float(str(candle.bid.h))\n",
    "        dfstream.loc[i, ['Low']] = float(str(candle.bid.l))\n",
    "        i=i+1\n",
    "\n",
    "    dfstream['Open'] = dfstream['Open'].astype(float)\n",
    "    dfstream['Close'] = dfstream['Close'].astype(float)\n",
    "    dfstream['High'] = dfstream['High'].astype(float)\n",
    "    dfstream['Low'] = dfstream['Low'].astype(float)\n",
    "\n",
    "    #dfstream['Average'] = (dfstream['High']+dfstream['Low'])/2\n",
    "    #dfstream['MA40'] = dfstream['Open'].rolling(window=40).mean()\n",
    "    #dfstream['MA80'] = dfstream['Open'].rolling(window=80).mean()\n",
    "    #dfstream['MA160'] = dfstream['Open'].rolling(window=160).mean()\n",
    "    \n",
    "    import numpy as np\n",
    "    import pandas_ta as ta\n",
    "    #attributes=['ATR', 'RSI', 'Average', \n",
    "    #'MA40', 'MA80', 'MA160', 'slopeMA40', \n",
    "    #'slopeMA80', 'slopeMA160', 'AverageSlope', 'RSISlope']\n",
    "    dfstream['ATR'] = dfstream.ta.atr(length=20)\n",
    "    dfstream['RSI'] = dfstream.ta.rsi()\n",
    "    dfstream['Average'] = dfstream.ta.midprice(length=1) #midprice\n",
    "    dfstream['MA40'] = dfstream.ta.sma(length=40)\n",
    "    dfstream['MA80'] = dfstream.ta.sma(length=80)\n",
    "    dfstream['MA160'] = dfstream.ta.sma(length=160)\n",
    "\n",
    "#from scipy.stats import linregress\n",
    "#def get_slope(array):\n",
    "#    y = np.array(array)\n",
    "#    x = np.arange(len(y))\n",
    "#    slope, intercept, r_value, p_value, std_err = linregress(x,y)\n",
    "#    return slope\n",
    "\n",
    "    #!!!!!!!!!!!!!!!!!!!!!!!!!!!!!\n",
    "    backrollingN = 6\n",
    "    #!!!!!!!!!!!!!!!!!!!!!!!!!!!!!\n",
    "    dfstream['slopeMA40'] = dfstream['MA40'].rolling(window=backrollingN).apply(get_slope, raw=True)\n",
    "    dfstream['slopeMA80'] = dfstream['MA80'].rolling(window=backrollingN).apply(get_slope, raw=True)\n",
    "    dfstream['slopeMA160'] = dfstream['MA160'].rolling(window=backrollingN).apply(get_slope, raw=True)\n",
    "    dfstream['AverageSlope'] = dfstream['Average'].rolling(window=backrollingN).apply(get_slope, raw=True)\n",
    "    dfstream['RSISlope'] = dfstream['RSI'].rolling(window=backrollingN).apply(get_slope, raw=True)\n",
    "\n",
    "    #________________________________________________________________________________________________\n",
    "    X_stream = dfstream.iloc[[320]]# !!! Index takes last CLOSED candle\n",
    "    #attributes=['ATR', 'RSI', 'Average', 'MA40', 'MA80', 'MA160', \n",
    "    #'slopeMA40', 'slopeMA80', 'slopeMA160', 'AverageSlope', 'RSISlope']\n",
    "    X_model = X_stream[attributes]\n",
    "    \n",
    "    # Apply the model for predictions\n",
    "    ModelPrediction = loaded_model.predict(X_model)\n",
    "  \n",
    "    msg = str(ModelPrediction) # 0 no clear trend, 1 downtrend, 2 uptrend\n",
    "    #------------------------------------\n",
    "    # send email with \n",
    "    server = smtplib.SMTP_SSL('smtp.gmail.com', 465)\n",
    "    server.ehlo()\n",
    "    server.login(gmail_user, gmail_password)\n",
    "    server.sendmail(sent_from, to, msg)\n",
    "    server.close()\n",
    "    #________________________________________________________________________________________________\n",
    "    \n",
    "    \n",
    "    # EXECUTING ORDERS\n",
    "    accountID = \"1432-432-0000\" #use your account ID\n",
    "    client = API(access_token)\n",
    "\n",
    "    candles = collector.grab(1)\n",
    "#    for candle in candles:\n",
    "#        print(candle.bid.o)\n",
    "#        print(candle.bid.c)\n",
    "    \n",
    "    pipdiff = 500*1e-5 #for TP\n",
    "    SLTPRatio = 2 #pipdiff/Ratio gives SL\n",
    "    \n",
    "    TPBuy = float(str(candle.bid.o))+pipdiff\n",
    "    SLBuy = float(str(candle.bid.o))-(pipdiff/SLTPRatio)\n",
    "    TPSell = float(str(candle.bid.o))-pipdiff\n",
    "    SLSell = float(str(candle.bid.o))+(pipdiff/SLTPRatio)\n",
    "    \n",
    "    #Sell\n",
    "    if ModelPrediction == 1:\n",
    "        mo = MarketOrderRequest(instrument=\"USD_CHF\", units=-1000, takeProfitOnFill=TakeProfitDetails(price=TPSell).data, stopLossOnFill=StopLossDetails(price=SLSell).data)\n",
    "        r = orders.OrderCreate(accountID, data=mo.data)\n",
    "        rv = client.request(r)\n",
    "        print(rv)\n",
    "    #Buy\n",
    "    elif ModelPrediction == 2:\n",
    "        mo = MarketOrderRequest(instrument=\"USD_CHF\", units=1000, takeProfitOnFill=TakeProfitDetails(price=TPBuy).data, stopLossOnFill=StopLossDetails(price=SLBuy).data)\n",
    "        r = orders.OrderCreate(accountID, data=mo.data)\n",
    "        rv = client.request(r)\n",
    "        print(rv)"
   ]
  },
  {
   "cell_type": "markdown",
   "metadata": {},
   "source": [
    "## Executing orders automatically every 4 Hours"
   ]
  },
  {
   "cell_type": "code",
   "execution_count": 34,
   "metadata": {},
   "outputs": [],
   "source": [
    "#some_job()\n",
    "\n",
    "###################################################################\n",
    "## Interval time job ##############################################\n",
    "scheduler = BlockingScheduler(job_defaults={'misfire_grace_time': 15*60})\n",
    "scheduler.add_job(some_job, 'cron', day_of_week='mon-fri', hour='*/4', minute=5, jitter=120, timezone='America/New_York')\n",
    "#scheduler.add_job(some_job, 'interval', hours=4)\n",
    "scheduler.start()"
   ]
  },
  {
   "cell_type": "code",
   "execution_count": null,
   "metadata": {},
   "outputs": [],
   "source": []
  }
 ],
 "metadata": {
  "kernelspec": {
   "display_name": "Python 3",
   "language": "python",
   "name": "python3"
  },
  "language_info": {
   "codemirror_mode": {
    "name": "ipython",
    "version": 3
   },
   "file_extension": ".py",
   "mimetype": "text/x-python",
   "name": "python",
   "nbconvert_exporter": "python",
   "pygments_lexer": "ipython3",
   "version": "3.11.7"
  }
 },
 "nbformat": 4,
 "nbformat_minor": 2
}
